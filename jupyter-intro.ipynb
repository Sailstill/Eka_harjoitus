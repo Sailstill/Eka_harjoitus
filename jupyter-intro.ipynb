{
 "cells": [
  {
   "cell_type": "markdown",
   "id": "instrumental-julian",
   "metadata": {},
   "source": [
    "# Data-analyysi Pythonilla"
   ]
  },
  {
   "cell_type": "markdown",
   "id": "focused-paragraph",
   "metadata": {},
   "source": [
    "Tässä notebookissa käydään läpi esimerkki data-analyysista Pythonilla, jossa piirretään kuvaaja Helsingin kuukausittaisista keskilämpötiloista vuonna 2020. Tämän on tarkoitus olla lyhyt esimerkki, joka näyttää, mitä Jupyter Notebookeilla ja Pythonilla voi esimerkiksi tehdä. Katso myös [toinen esimerkki](https://mybinder.org/v2/gh/opendata-education/Python-ja-Jupyter/HEAD?filepath=materiaali%2Fharjoitukset%2Fdata-analyysi_esimerkki.ipynb), jossa pääset itse kirjoittamaan koodia ohjatusti! \n",
    "\n",
    "Ennenkuin mennään varsinaisesti asiaan, perehdytään pikaisesti itse Jupyter Notebook -alustaan.\n",
    "Jupyter Notebook -muistio koostuu **soluista**, jotka voivat sisältää joko tekstiä tai koodia.\n",
    "Tämä solu on tekstisolu, jota voi muokata kaksoisklikkaamalla tätä hiirellä.\n",
    "Kokeile! Muokkaustilasta pääsee pois suorittamalla solun painamalla sivun ylälaidassa olevaa *Run*-painiketta.\n",
    "Koodisolun suorittaminen tapahtuu myös *Run*-painikkeella. Tällöin solun sisällä oleva koodi suoritetaan ja mahdollinen tulos tulee näkyviin solun alapuolelle. Koodisolun tunnistat solun vasemmassa reunssa olevasta `In [ ]:`-tekstistä."
   ]
  },
  {
   "cell_type": "markdown",
   "id": "standard-premises",
   "metadata": {},
   "source": [
    "Mennään sitten itse data-analyysiesimerkin pariin!\n",
    "Esimerkin koodit on valmiiksi kirjoitettu, joten voit suorittaa koodisolut sellaisenaan.\n",
    "Voit myös vapaasti kirjoittaa itse koodia tai vaihtaa jotain valmiissa koodissa!\n",
    "\n",
    "Yksinkertaisimmillaan voimme visualisoida lämpötiladatan muutamalla rivillä koodia. Tähän kuuluu tarvittavien pakettien ottaminen käyttöön import komennolla sekä datan lukeminen ja sen piirtäminen. Alla olevassa esimerkissä otetaan ensin käyttöön paketit matplotlib.pyplot kuvaajien piirtämistä varten ja pandas datan lukemista varten.\n",
    "\n",
    "Paina alla olevaa koodisolua, jolloin se muuttuu aktiiviseksi. Tämän jälkeen paina sivun ylälaidassa olevaa *Run*-painiketta, jolloin solussa oleva koodi suoritetaan. Näytölle pitäisi nyt ilmestyä kuvaaja."
   ]
  },
  {
   "cell_type": "code",
   "execution_count": 5,
   "id": "cellular-spectacular",
   "metadata": {},
   "outputs": [
    {
     "data": {
      "text/plain": [
       "[<matplotlib.lines.Line2D at 0x7fbb6d7447d0>]"
      ]
     },
     "execution_count": 5,
     "metadata": {},
     "output_type": "execute_result"
    },
    {
     "data": {
      "image/png": "[encoded data removed]",
      "text/plain": [
       "<Figure size 432x288 with 1 Axes>"
      ]
     },
     "metadata": {
      "needs_background": "light"
     },
     "output_type": "display_data"
    }
   ],
   "source": [
    "import matplotlib.pyplot as plt\n",
    "import pandas as pd\n",
    "\n",
    "data = pd.read_csv('keskilampotila2020_Helsinki.csv')\n",
    "kuukaudet = data['Kk']\n",
    "lämpötilat = data['Keskilämpötila (degC)']\n",
    "plt.plot(kuukaudet, lämpötilat)"
   ]
  },
  {
   "cell_type": "markdown",
   "id": "indirect-flour",
   "metadata": {},
   "source": [
    "Datan visualisoiminen käy siis varsin pienellä työmäärällä. Äsken piirtämäsi kuvaaja ei kuitenkaan kerro vielä kovin paljoa, joten otetaan esimerkki, jossa tehdään kuvaajasta hieman parempi.\n",
    "\n",
    "Suorita (*Run*) alla olevat koodisolut yksi kerrallaan. Voit myös katsoa, mitä koodiin on kirjoitettu ja kokeilla, mitä tapahtuu jos muutat jotain parametrejä. Koodissa rivit, jotka alkavat #-merkillä ovat kommentteja, jotka eivät vaikuta itse koodiin, vaan niihin tyypillisesti kirjoitetaan mitä koodi tekee."
   ]
  },
  {
   "cell_type": "code",
   "execution_count": 6,
   "id": "occasional-wisconsin",
   "metadata": {},
   "outputs": [
    {
     "data": {
      "text/html": [
       "<div>\n",
       "<style scoped>\n",
       "    .dataframe tbody tr th:only-of-type {\n",
       "        vertical-align: middle;\n",
       "    }\n",
       "\n",
       "    .dataframe tbody tr th {\n",
       "        vertical-align: top;\n",
       "    }\n",
       "\n",
       "    .dataframe thead th {\n",
       "        text-align: right;\n",
       "    }\n",
       "</style>\n",
       "<table border=\"1\" class=\"dataframe\">\n",
       "  <thead>\n",
       "    <tr style=\"text-align: right;\">\n",
       "      <th></th>\n",
       "      <th>Vuosi</th>\n",
       "      <th>Kk</th>\n",
       "      <th>Keskilämpötila (degC)</th>\n",
       "    </tr>\n",
       "  </thead>\n",
       "  <tbody>\n",
       "    <tr>\n",
       "      <th>0</th>\n",
       "      <td>2020</td>\n",
       "      <td>1</td>\n",
       "      <td>1.9</td>\n",
       "    </tr>\n",
       "    <tr>\n",
       "      <th>1</th>\n",
       "      <td>2020</td>\n",
       "      <td>2</td>\n",
       "      <td>0.5</td>\n",
       "    </tr>\n",
       "    <tr>\n",
       "      <th>2</th>\n",
       "      <td>2020</td>\n",
       "      <td>3</td>\n",
       "      <td>1.7</td>\n",
       "    </tr>\n",
       "    <tr>\n",
       "      <th>3</th>\n",
       "      <td>2020</td>\n",
       "      <td>4</td>\n",
       "      <td>4.5</td>\n",
       "    </tr>\n",
       "    <tr>\n",
       "      <th>4</th>\n",
       "      <td>2020</td>\n",
       "      <td>5</td>\n",
       "      <td>9.5</td>\n",
       "    </tr>\n",
       "  </tbody>\n",
       "</table>\n",
       "</div>"
      ],
      "text/plain": [
       "   Vuosi  Kk  Keskilämpötila (degC)\n",
       "0   2020   1                    1.9\n",
       "1   2020   2                    0.5\n",
       "2   2020   3                    1.7\n",
       "3   2020   4                    4.5\n",
       "4   2020   5                    9.5"
      ]
     },
     "execution_count": 6,
     "metadata": {},
     "output_type": "execute_result"
    }
   ],
   "source": [
    "# Otetaan tarvittavat paketit käyttöön\n",
    "import matplotlib.pyplot as plt\n",
    "import pandas as pd\n",
    "\n",
    "# Luetaan data tiedostosta 'keskilampotila2020_Helsinki.csv'\n",
    "# ja tallennetaan tulos muuttujaan 'data'.\n",
    "data = pd.read_csv('keskilampotila2020_Helsinki.csv')\n",
    "\n",
    "# Tulostetaan näytölle datan muutama ensimmäinen rivi, jotta näemme miltä data näyttää.\n",
    "data.head()"
   ]
  },
  {
   "cell_type": "code",
   "execution_count": 13,
   "id": "superb-butterfly",
   "metadata": {},
   "outputs": [
    {
     "data": {
      "image/png": "[encoded data removed]",
      "text/plain": [
       "<Figure size 432x288 with 1 Axes>"
      ]
     },
     "metadata": {
      "needs_background": "light"
     },
     "output_type": "display_data"
    }
   ],
   "source": [
    "# Valitaan datasta 'Kk'-sarake ja 'Keskilämpötila (°C)'-sarake\n",
    "# ja tallennetaan ne muuttujiin 'kuukaudet' ja 'lämpötilat'\n",
    "kuukaudet = data['Kk']\n",
    "lämpötilat = data['Keskilämpötila (degC)']\n",
    "\n",
    "# piirretään kuvaaja, jossa x-akselille tulee kuukaudet ja y-akselille lämpötilat\n",
    "# Kuvaajan piirretään punaisella viivalla ('r-') ja datapisteet merkitään kuvaajaan\n",
    "plt.plot(kuukaudet, lämpötilat, 'b--', marker='o')\n",
    "\n",
    "# Asetetaan x-akselin ja y-akselin otsikot\n",
    "plt.xlabel('Kuukausi')\n",
    "plt.ylabel('Lämpötilalukema (°C)')\n",
    "\n",
    "# Asetetaan kuvaajalle pääotsikko\n",
    "plt.title('Keskilämpötila Helsingissä kuukausittain 2020')\n",
    "\n",
    "# Tehdään lista x-akselille tulevista teksteistä.\n",
    "labels = ['Tammikuu','Helmikuu','Maaliskuu','Huhtikuu','Toukokuu','Kesäkuu','Heinäkuu','Elokuu','Syyskuu','Lokakuu','Marraskuu','Joulukuu']\n",
    "\n",
    "# Muutetaan x-aksella olevat numerot äsken määrittämiksi teksteiksi.\n",
    "# range(1,13) luo listan, jossa on numerot 1-12.\n",
    "# Seuraavaksi annetaan parametrina tekstit, jotka sijoitetaan numeroiden paikalle (tallennettu 'labels'-muuttujaan)\n",
    "# Lopuksi vielä käännetään tekstejä, jotta ne eivät menisi päällekkäin.\n",
    "plt.xticks(range(1,13), labels, rotation=50)\n",
    "\n",
    "# Näytetään kuvaajan ruudukko\n",
    "plt.grid()\n",
    "\n",
    "# Tämä komento poistaa ylimääräiset tulosteet ja näyttää ainoastaan kuvan, kun solu suoritetaan.\n",
    "plt.show()"
   ]
  },
  {
   "cell_type": "markdown",
   "id": "southwest-ultimate",
   "metadata": {},
   "source": [
    "Kuvaajien muokkaamiseen on paljon mahdollisuuksia, joita ei kaikkia pysty tässä mitenkään esittämään. Googlesta löytää kuitenkin yleensä ratkaisun siihen, millaisen kuvaajan ikinä haluatkaan piirtää.\n",
    "\n",
    "Kokeile vielä muuttaa jotain aiemmissa koodeissa. Miten muuttaisit akseleiden otsikoita? Miten piirtäisit kuvaajan vihreällä katkoviivalla? "
   ]
  },
  {
   "cell_type": "markdown",
   "id": "seasonal-democracy",
   "metadata": {},
   "source": [
    "## Histogrammi"
   ]
  },
  {
   "cell_type": "markdown",
   "id": "collected-draft",
   "metadata": {},
   "source": [
    "Otetaan vielä toinen esimerkki datan visualisoinnista. Piirretään tällä kertaa histogrammi mitatuista lämpötiloista Helsingissä tammikuussa 2021. Tätä varten olemme jälleen hakeneet datan Ilmatieteenlaitoksen hakupalvelusta. Data koostuu 10 minuutin välein tehdyistä mittauksista, joten dataa on varsin paljon."
   ]
  },
  {
   "cell_type": "code",
   "execution_count": 14,
   "id": "regulation-plane",
   "metadata": {},
   "outputs": [
    {
     "data": {
      "text/html": [
       "<div>\n",
       "<style scoped>\n",
       "    .dataframe tbody tr th:only-of-type {\n",
       "        vertical-align: middle;\n",
       "    }\n",
       "\n",
       "    .dataframe tbody tr th {\n",
       "        vertical-align: top;\n",
       "    }\n",
       "\n",
       "    .dataframe thead th {\n",
       "        text-align: right;\n",
       "    }\n",
       "</style>\n",
       "<table border=\"1\" class=\"dataframe\">\n",
       "  <thead>\n",
       "    <tr style=\"text-align: right;\">\n",
       "      <th></th>\n",
       "      <th>Vuosi</th>\n",
       "      <th>Kk</th>\n",
       "      <th>Pv</th>\n",
       "      <th>Klo</th>\n",
       "      <th>Aikavyöhyke</th>\n",
       "      <th>Sademäärä (mm)</th>\n",
       "      <th>Lumensyvyys (cm)</th>\n",
       "      <th>Ilman lämpötila (degC)</th>\n",
       "      <th>Tuulen nopeus (m/s)</th>\n",
       "    </tr>\n",
       "  </thead>\n",
       "  <tbody>\n",
       "    <tr>\n",
       "      <th>0</th>\n",
       "      <td>2021</td>\n",
       "      <td>1</td>\n",
       "      <td>1</td>\n",
       "      <td>00:00</td>\n",
       "      <td>UTC</td>\n",
       "      <td>0.0</td>\n",
       "      <td>0.0</td>\n",
       "      <td>0.4</td>\n",
       "      <td>1.7</td>\n",
       "    </tr>\n",
       "    <tr>\n",
       "      <th>1</th>\n",
       "      <td>2021</td>\n",
       "      <td>1</td>\n",
       "      <td>1</td>\n",
       "      <td>00:10</td>\n",
       "      <td>UTC</td>\n",
       "      <td>NaN</td>\n",
       "      <td>0.0</td>\n",
       "      <td>0.4</td>\n",
       "      <td>1.5</td>\n",
       "    </tr>\n",
       "    <tr>\n",
       "      <th>2</th>\n",
       "      <td>2021</td>\n",
       "      <td>1</td>\n",
       "      <td>1</td>\n",
       "      <td>00:20</td>\n",
       "      <td>UTC</td>\n",
       "      <td>NaN</td>\n",
       "      <td>0.0</td>\n",
       "      <td>0.4</td>\n",
       "      <td>1.1</td>\n",
       "    </tr>\n",
       "    <tr>\n",
       "      <th>3</th>\n",
       "      <td>2021</td>\n",
       "      <td>1</td>\n",
       "      <td>1</td>\n",
       "      <td>00:30</td>\n",
       "      <td>UTC</td>\n",
       "      <td>NaN</td>\n",
       "      <td>0.0</td>\n",
       "      <td>0.4</td>\n",
       "      <td>0.9</td>\n",
       "    </tr>\n",
       "    <tr>\n",
       "      <th>4</th>\n",
       "      <td>2021</td>\n",
       "      <td>1</td>\n",
       "      <td>1</td>\n",
       "      <td>00:40</td>\n",
       "      <td>UTC</td>\n",
       "      <td>NaN</td>\n",
       "      <td>0.0</td>\n",
       "      <td>0.5</td>\n",
       "      <td>1.1</td>\n",
       "    </tr>\n",
       "  </tbody>\n",
       "</table>\n",
       "</div>"
      ],
      "text/plain": [
       "   Vuosi  Kk  Pv    Klo Aikavyöhyke  Sademäärä (mm)  Lumensyvyys (cm)  \\\n",
       "0   2021   1   1  00:00         UTC             0.0               0.0   \n",
       "1   2021   1   1  00:10         UTC             NaN               0.0   \n",
       "2   2021   1   1  00:20         UTC             NaN               0.0   \n",
       "3   2021   1   1  00:30         UTC             NaN               0.0   \n",
       "4   2021   1   1  00:40         UTC             NaN               0.0   \n",
       "\n",
       "   Ilman lämpötila (degC)  Tuulen nopeus (m/s)  \n",
       "0                     0.4                  1.7  \n",
       "1                     0.4                  1.5  \n",
       "2                     0.4                  1.1  \n",
       "3                     0.4                  0.9  \n",
       "4                     0.5                  1.1  "
      ]
     },
     "execution_count": 14,
     "metadata": {},
     "output_type": "execute_result"
    }
   ],
   "source": [
    "# Otetaan tarvittavat paketit käyttöön\n",
    "import matplotlib.pyplot as plt\n",
    "import pandas as pd\n",
    "\n",
    "# Luetaan data tiedostosta 'lampotila_tammikuu2021_Helsinki.csv'\n",
    "# ja tallennetaan tulos muuttujaan 'data'.\n",
    "data = pd.read_csv('lampotila_tammikuu2021_Helsinki.csv')\n",
    "\n",
    "# Tulostetaan näytölle datan muutama ensimmäinen rivi, jotta näemme miltä data näyttää.\n",
    "data.head()"
   ]
  },
  {
   "cell_type": "code",
   "execution_count": 36,
   "id": "apart-luxury",
   "metadata": {},
   "outputs": [
    {
     "data": {
      "image/png": "[encoded data removed]",
      "text/plain": [
       "<Figure size 432x288 with 1 Axes>"
      ]
     },
     "metadata": {
      "needs_background": "light"
     },
     "output_type": "display_data"
    }
   ],
   "source": [
    "# Valitaan datasta 'Ilman lämpötila (degC)'-sarake\n",
    "# ja tallennetaan se muuttujaan 'lämpötilat'\n",
    "lämpötilat = data['Ilman lämpötila (degC)']\n",
    "tuulet = data['Tuulen nopeus (m/s)']\n",
    "# piirretään histogrammi, ja valitaan alkuun pylväiden lukumääräksi 50\n",
    "plt.hist(tuulet, bins=30)\n",
    "\n",
    "# Asetetaan x-akselin ja y-akselin otsikot\n",
    "plt.xlabel('Tuuli (m/s)')\n",
    "plt.ylabel('Mittaustulokset per pylväs')\n",
    "\n",
    "# Asetetaan kuvaajalle pääotsikko\n",
    "plt.title('Tuulijakauma Helsingissä tammikuussa 2021')\n",
    "\n",
    "# Tämä komento poistaa ylimääräiset tulosteet ja näyttää ainoastaan kuvan, kun solu suoritetaan.\n",
    "plt.show()"
   ]
  },
  {
   "cell_type": "markdown",
   "id": "premium-brazilian",
   "metadata": {},
   "source": [
    "Histogrammin piirtäminenkin siis onnistuu muutamalla yksinkertaisella komennolla. Tässäkin tapauksessa voisimme muokata kuvaajaa edelleen mielemme mukaan. Tehdään histogrammi uudelleen, mutta tällä kertaa siten, että pylväiden leveys on 1 degC."
   ]
  },
  {
   "cell_type": "code",
   "execution_count": 19,
   "id": "civil-legislature",
   "metadata": {},
   "outputs": [
    {
     "data": {
      "image/png": "[encoded data removed]",
      "text/plain": [
       "<Figure size 432x288 with 1 Axes>"
      ]
     },
     "metadata": {
      "needs_background": "light"
     },
     "output_type": "display_data"
    }
   ],
   "source": [
    "# Piirretään histogrammi välillä -22 degC ... 4 degC, jolloin pylväitä tarvitaan 26\n",
    "# fill=False poistaa värityksen kuvaajasta, jolloin pylväät erottuvat helpommin.\n",
    "plt.hist(lämpötilat, bins=26, range=(-22,4), fill=False)\n",
    "\n",
    "# Asetetaan vielä x-akselin rajat samoiksi kuin histogrammin\n",
    "plt.xlim((-22,4))\n",
    "\n",
    "plt.xlabel('Lämpötila (°C)')\n",
    "plt.ylabel('Mittaukset/°C')\n",
    "plt.title('Lämpötilajakauma Helsingissä tammikuussa 2021')\n",
    "#plt.xticks(range(-20,6,4))\n",
    "\n",
    "# Tämä komento poistaa ylimääräiset tulosteet ja näyttää ainoastaan kuvan, kun solu suoritetaan.\n",
    "plt.show()"
   ]
  },
  {
   "cell_type": "markdown",
   "id": "surrounded-fighter",
   "metadata": {},
   "source": [
    "Äsken käsittelemässämme datassa oli lämpötilojen lisäksi muutakin dataa, kuten tuulen nopeus tai lumen syvyys. Kokeile piirtää jostakin toisesta sarakkeesta kuvaaja tai histogrammi.\n",
    "\n",
    "Voit myös kokeilla etsiä itse jonkin datasetin netistä ja laittaa suoran linkin `read_csv`-työkalun parametriksi."
   ]
  },
  {
   "cell_type": "code",
   "execution_count": 1,
   "id": "improved-salmon",
   "metadata": {},
   "outputs": [
    {
     "name": "stdout",
     "output_type": "stream",
     "text": [
      "Hello\n"
     ]
    }
   ],
   "source": [
    "print(\"Hello\")"
   ]
  },
  {
   "cell_type": "markdown",
   "id": "taken-salem",
   "metadata": {},
   "source": [
    "Tekstisolu"
   ]
  },
  {
   "cell_type": "code",
   "execution_count": 3,
   "id": "controlled-lawyer",
   "metadata": {},
   "outputs": [],
   "source": [
    "y=17/3"
   ]
  },
  {
   "cell_type": "code",
   "execution_count": 4,
   "id": "lightweight-brain",
   "metadata": {},
   "outputs": [
    {
     "name": "stdout",
     "output_type": "stream",
     "text": [
      "5.666666666666667\n"
     ]
    }
   ],
   "source": [
    "print(y)"
   ]
  },
  {
   "cell_type": "code",
   "execution_count": null,
   "id": "czech-academy",
   "metadata": {},
   "outputs": [],
   "source": []
  }
 ],
 "metadata": {
  "kernelspec": {
   "display_name": "Python 3",
   "language": "python",
   "name": "python3"
  },
  "language_info": {
   "codemirror_mode": {
    "name": "ipython",
    "version": 3
   },
   "file_extension": ".py",
   "mimetype": "text/x-python",
   "name": "python",
   "nbconvert_exporter": "python",
   "pygments_lexer": "ipython3",
   "version": "3.7.10"
  }
 },
 "nbformat": 4,
 "nbformat_minor": 5
}
